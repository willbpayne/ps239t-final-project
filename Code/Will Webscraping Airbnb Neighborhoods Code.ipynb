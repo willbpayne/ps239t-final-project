{
 "cells": [
  {
   "cell_type": "markdown",
   "metadata": {},
   "source": [
    "# Airbnb Neighborhood Info Scraping"
   ]
  },
  {
   "cell_type": "markdown",
   "metadata": {},
   "source": [
    "First, run the code below to import the `requests` and `BeautifulSoup` libraries, as well as some other libraries we will be using."
   ]
  },
  {
   "cell_type": "code",
   "execution_count": 1,
   "metadata": {
    "collapsed": true
   },
   "outputs": [],
   "source": [
    "import requests\n",
    "from bs4 import BeautifulSoup\n",
    "from datetime import datetime\n",
    "import time\n",
    "import re\n",
    "import sys"
   ]
  },
  {
   "cell_type": "code",
   "execution_count": 84,
   "metadata": {
    "collapsed": false
   },
   "outputs": [
    {
     "data": {
      "text/plain": [
       "['/locations/tel-aviv/lev-hair\">Lev HaIr',\n",
       " '/locations/tel-aviv\">Tel Aviv',\n",
       " '/locations/seoul/samseongdong-coex\">Samseongdong/COEX',\n",
       " '/locations/seoul\">Seoul',\n",
       " '/locations/barcelona/el-raval\">El Raval',\n",
       " '/locations/barcelona\">Barcelona',\n",
       " '/locations/boston/cambridge\">Cambridge',\n",
       " '/locations/boston\">Boston',\n",
       " '/locations/tokyo/ginza\">Ginza',\n",
       " '/locations/tokyo\">Tokyo',\n",
       " '/locations/austin\">Austin',\n",
       " '/locations/bangkok\">Bangkok',\n",
       " '/locations/barcelona\">Barcelona',\n",
       " '/locations/berlin\">Berlin',\n",
       " '/locations/boston\">Boston',\n",
       " '/locations/buenos-aires\">Buenos Aires',\n",
       " '/locations/lake-tahoe\">Lake Tahoe',\n",
       " '/locations/london\">London',\n",
       " '/locations/los-angeles\">Los Angeles',\n",
       " '/locations/mexico-city\">Mexico City',\n",
       " '/locations/miami\">Miami',\n",
       " '/locations/new-york\">New York',\n",
       " '/locations/paris\">Paris',\n",
       " '/locations/rio-de-janeiro\">Rio de Janeiro',\n",
       " '/locations/rome\">Rome',\n",
       " '/locations/san-francisco\">San Francisco',\n",
       " '/locations/seoul\">Seoul',\n",
       " '/locations/sydney\">Sydney',\n",
       " '/locations/tel-aviv\">Tel Aviv',\n",
       " '/locations/tokyo\">Tokyo',\n",
       " '/locations/venice\">Venice',\n",
       " '/locations/washington-dc\">Washington DC']"
      ]
     },
     "execution_count": 84,
     "metadata": {},
     "output_type": "execute_result"
    }
   ],
   "source": [
    "def get_cities(url):\n",
    "    src = requests.get(url).text\n",
    "    soup = BeautifulSoup(src)\n",
    "    cities = soup.select('a')\n",
    "    listofcities = []\n",
    "    for item in cities:\n",
    "        stritem = str(item)\n",
    "        shortitem = stritem[9:-4]\n",
    "        if shortitem.startswith(\"/locations/\"):\n",
    "            listofcities.append(shortitem)\n",
    "    return listofcities\n",
    "get_cities(\"https://www.airbnb.com/locations\")"
   ]
  },
  {
   "cell_type": "code",
   "execution_count": 87,
   "metadata": {
    "collapsed": false
   },
   "outputs": [
    {
     "name": "stdout",
     "output_type": "stream",
     "text": [
      "{'Mexico City': 'https://www.airbnb.com/locations/mexico-city', 'Venice': 'https://www.airbnb.com/locations/venice', 'Samseongdong/COEX': 'https://www.airbnb.com/locations/seoul/samseongdong-coex', 'Paris': 'https://www.airbnb.com/locations/paris', 'Rio de Janeiro': 'https://www.airbnb.com/locations/rio-de-janeiro', 'Sydney': 'https://www.airbnb.com/locations/sydney', 'Washington DC': 'https://www.airbnb.com/locations/washington-dc', 'San Francisco': 'https://www.airbnb.com/locations/san-francisco', 'Lev HaIr': 'https://www.airbnb.com/locations/tel-aviv/lev-hair', 'Seoul': 'https://www.airbnb.com/locations/seoul', 'Buenos Aires': 'https://www.airbnb.com/locations/buenos-aires', 'Bangkok': 'https://www.airbnb.com/locations/bangkok', 'Berlin': 'https://www.airbnb.com/locations/berlin', 'Los Angeles': 'https://www.airbnb.com/locations/los-angeles', 'Tokyo': 'https://www.airbnb.com/locations/tokyo', 'Miami': 'https://www.airbnb.com/locations/miami', 'Barcelona': 'https://www.airbnb.com/locations/barcelona', 'Rome': 'https://www.airbnb.com/locations/rome', 'Lake Tahoe': 'https://www.airbnb.com/locations/lake-tahoe', 'Tel Aviv': 'https://www.airbnb.com/locations/tel-aviv', 'Austin': 'https://www.airbnb.com/locations/austin', 'El Raval': 'https://www.airbnb.com/locations/barcelona/el-raval', 'Cambridge': 'https://www.airbnb.com/locations/boston/cambridge', 'Boston': 'https://www.airbnb.com/locations/boston', 'New York': 'https://www.airbnb.com/locations/new-york', 'London': 'https://www.airbnb.com/locations/london', 'Ginza': 'https://www.airbnb.com/locations/tokyo/ginza'}\n"
     ]
    }
   ],
   "source": [
    "citylist = get_cities(\"https://www.airbnb.com/locations\")\n",
    "citylist = list(set(citylist))\n",
    "citydic = {}\n",
    "for item in citylist:\n",
    "    newlist = item.split(\">\")\n",
    "    name = newlist[1]\n",
    "    URL = \"https://www.airbnb.com\" + newlist[0][:-1]\n",
    "    citydic[name] = URL\n",
    "print citydic"
   ]
  },
  {
   "cell_type": "code",
   "execution_count": 88,
   "metadata": {
    "collapsed": false
   },
   "outputs": [
    {
     "name": "stdout",
     "output_type": "stream",
     "text": [
      "['/locations/san-francisco/alamo-square\">Alamo Square', '/locations/san-francisco/bayview\">Bayview', '/locations/san-francisco/bernal-heights\">Bernal Heights', '/locations/san-francisco/chinatown\">Chinatown', '/locations/san-francisco/civic-center\">Civic Center', '/locations/san-francisco/cole-valley\">Cole Valley', '/locations/san-francisco/cow-hollow\">Cow Hollow', '/locations/san-francisco/dogpatch\">Dogpatch', '/locations/san-francisco/downtown\">Downtown', '/locations/san-francisco/duboce-triangle\">Duboce Triangle', '/locations/san-francisco/excelsior\">Excelsior', '/locations/san-francisco/financial-district\">Financial District', '/locations/san-francisco/fisherman-s-wharf\">Fisherman\\'s Wharf', '/locations/san-francisco/glen-park\">Glen Park', '/locations/san-francisco/haight-ashbury\">Haight-Ashbury', '/locations/san-francisco/hayes-valley\">Hayes Valley', '/locations/san-francisco/inner-sunset\">Inner Sunset', '/locations/san-francisco/japantown\">Japantown', '/locations/san-francisco/lower-haight\">Lower Haight', '/locations/san-francisco/marina\">Marina', '/locations/san-francisco/mission-bay\">Mission Bay', '/locations/san-francisco/mission-district\">Mission District', '/locations/san-francisco/mission-terrace\">Mission Terrace', '/locations/san-francisco/nob-hill\">Nob Hill', '/locations/san-francisco/noe-valley\">Noe Valley', '/locations/san-francisco/north-beach\">North Beach', '/locations/san-francisco/sunset-district\">Outer Sunset', '/locations/san-francisco/pacific-heights\">Pacific Heights', '/locations/san-francisco/parkside\">Parkside', '/locations/san-francisco/portola\">Portola', '/locations/san-francisco/potrero-hill\">Potrero Hill', '/locations/san-francisco/presidio-heights\">Presidio Heights', '/locations/san-francisco/richmond-district\">Richmond District', '/locations/san-francisco/russian-hill\">Russian Hill', '/locations/san-francisco/soma\">SoMa', '/locations/san-francisco/south-beach\">South Beach', '/locations/san-francisco/telegraph-hill\">Telegraph Hill', '/locations/san-francisco/tenderloin\">Tenderloin', '/locations/san-francisco/the-castro\">The Castro', '/locations/san-francisco/twin-peaks\">Twin Peaks', '/locations/san-francisco/visitacion-valley\">Visitacion Valley', '/locations/san-francisco/western-addition-nopa\">Western Addition/NOPA', '\"link-contrast\" href=\"/about/about-us\">About', '\"link-contrast\" href=\"/careers\">Careers', '\"link-contrast\" href=\"/press/news\">Press', '\"link-contrast\" href=\"http://blog.airbnb.com\">Blog', '\"link-contrast\" href=\"/help\">Help', '\"link-contrast\" href=\"/policies\">Policies', '\"link-contrast\" href=\"/disaster-response\">Disaster Response', '\"link-contrast\" href=\"/terms\">Terms &amp; Privacy', '\"link-contrast\" href=\"/trust\">Trust &amp; Safety', '\"link-contrast\" href=\"/wishlists/airbnb_picks\">Airbnb Picks', '\"link-contrast\" href=\"/mobile\">Mobile', '\"link-contrast\" href=\"https://www.airbnbnyc.com\">Support NYC', '\"link-contrast\" href=\"/business-travel-management\">Business Travel', '\"link-contrast\" href=\"/sitemaps\">Site Map', '/host\">Why Host', '/hospitality\">Hospitality', '/help/responsible-hosting\">Responsible Hosting', '/home-safety\">Home Safety', '/stories\">Stories']\n"
     ]
    }
   ],
   "source": [
    "def get_neighborhoods(url):\n",
    "    src = requests.get(url).text\n",
    "    soup = BeautifulSoup(src)\n",
    "    neighborhoods = soup.select('div.span3')\n",
    "    listofneighborhoods = []\n",
    "    for column in neighborhoods:\n",
    "        hoodlist = column.select('li')\n",
    "        for hood in hoodlist:\n",
    "            hood = str(hood)\n",
    "            hood = hood[13:-9]\n",
    "            listofneighborhoods.append(hood)\n",
    "    return listofneighborhoods\n",
    "\n",
    "neighborhoodlist = get_neighborhoods('https://www.airbnb.com/locations/san-francisco/neighborhoods')\n",
    "print neighborhoodlist"
   ]
  },
  {
   "cell_type": "code",
   "execution_count": 94,
   "metadata": {
    "collapsed": false
   },
   "outputs": [
    {
     "name": "stdout",
     "output_type": "stream",
     "text": [
      "['/locations/san-francisco/alamo-square\">Alamo Square', '/locations/san-francisco/bayview\">Bayview', '/locations/san-francisco/bernal-heights\">Bernal Heights', '/locations/san-francisco/chinatown\">Chinatown', '/locations/san-francisco/civic-center\">Civic Center', '/locations/san-francisco/cole-valley\">Cole Valley', '/locations/san-francisco/cow-hollow\">Cow Hollow', '/locations/san-francisco/dogpatch\">Dogpatch', '/locations/san-francisco/downtown\">Downtown', '/locations/san-francisco/duboce-triangle\">Duboce Triangle', '/locations/san-francisco/excelsior\">Excelsior', '/locations/san-francisco/financial-district\">Financial District', '/locations/san-francisco/fisherman-s-wharf\">Fisherman\\'s Wharf', '/locations/san-francisco/glen-park\">Glen Park', '/locations/san-francisco/haight-ashbury\">Haight-Ashbury', '/locations/san-francisco/hayes-valley\">Hayes Valley', '/locations/san-francisco/inner-sunset\">Inner Sunset', '/locations/san-francisco/japantown\">Japantown', '/locations/san-francisco/lower-haight\">Lower Haight', '/locations/san-francisco/marina\">Marina', '/locations/san-francisco/mission-bay\">Mission Bay', '/locations/san-francisco/mission-district\">Mission District', '/locations/san-francisco/mission-terrace\">Mission Terrace', '/locations/san-francisco/nob-hill\">Nob Hill', '/locations/san-francisco/noe-valley\">Noe Valley', '/locations/san-francisco/north-beach\">North Beach', '/locations/san-francisco/sunset-district\">Outer Sunset', '/locations/san-francisco/pacific-heights\">Pacific Heights', '/locations/san-francisco/parkside\">Parkside', '/locations/san-francisco/portola\">Portola', '/locations/san-francisco/potrero-hill\">Potrero Hill', '/locations/san-francisco/presidio-heights\">Presidio Heights', '/locations/san-francisco/richmond-district\">Richmond District', '/locations/san-francisco/russian-hill\">Russian Hill', '/locations/san-francisco/soma\">SoMa', '/locations/san-francisco/south-beach\">South Beach', '/locations/san-francisco/telegraph-hill\">Telegraph Hill', '/locations/san-francisco/tenderloin\">Tenderloin', '/locations/san-francisco/the-castro\">The Castro', '/locations/san-francisco/twin-peaks\">Twin Peaks', '/locations/san-francisco/visitacion-valley\">Visitacion Valley', '/locations/san-francisco/western-addition-nopa\">Western Addition/NOPA']\n"
     ]
    }
   ],
   "source": [
    "for item in neighborhoodlist:\n",
    "    if not item.startswith(\"/locations/\"):\n",
    "        neighborhoodlist.remove(item)\n",
    "        print \"I removed something\"\n",
    "print neighborhoodlist"
   ]
  },
  {
   "cell_type": "code",
   "execution_count": 95,
   "metadata": {
    "collapsed": false
   },
   "outputs": [
    {
     "name": "stdout",
     "output_type": "stream",
     "text": [
      "{\"Fisherman's Wharf\": 'https://www.airbnb.com/locations/san-francisco/fisherman-s-wharf', 'Hayes Valley': 'https://www.airbnb.com/locations/san-francisco/hayes-valley', 'Portola': 'https://www.airbnb.com/locations/san-francisco/portola', 'Financial District': 'https://www.airbnb.com/locations/san-francisco/financial-district', 'Lower Haight': 'https://www.airbnb.com/locations/san-francisco/lower-haight', 'Japantown': 'https://www.airbnb.com/locations/san-francisco/japantown', 'Glen Park': 'https://www.airbnb.com/locations/san-francisco/glen-park', 'Tenderloin': 'https://www.airbnb.com/locations/san-francisco/tenderloin', 'Cow Hollow': 'https://www.airbnb.com/locations/san-francisco/cow-hollow', 'Parkside': 'https://www.airbnb.com/locations/san-francisco/parkside', 'Presidio Heights': 'https://www.airbnb.com/locations/san-francisco/presidio-heights', 'Bernal Heights': 'https://www.airbnb.com/locations/san-francisco/bernal-heights', 'Mission Terrace': 'https://www.airbnb.com/locations/san-francisco/mission-terrace', 'Telegraph Hill': 'https://www.airbnb.com/locations/san-francisco/telegraph-hill', 'Potrero Hill': 'https://www.airbnb.com/locations/san-francisco/potrero-hill', 'Pacific Heights': 'https://www.airbnb.com/locations/san-francisco/pacific-heights', 'Duboce Triangle': 'https://www.airbnb.com/locations/san-francisco/duboce-triangle', 'Excelsior': 'https://www.airbnb.com/locations/san-francisco/excelsior', 'Downtown': 'https://www.airbnb.com/locations/san-francisco/downtown', 'Mission District': 'https://www.airbnb.com/locations/san-francisco/mission-district', 'Visitacion Valley': 'https://www.airbnb.com/locations/san-francisco/visitacion-valley', 'Marina': 'https://www.airbnb.com/locations/san-francisco/marina', 'Haight-Ashbury': 'https://www.airbnb.com/locations/san-francisco/haight-ashbury', 'Nob Hill': 'https://www.airbnb.com/locations/san-francisco/nob-hill', 'Richmond District': 'https://www.airbnb.com/locations/san-francisco/richmond-district', 'SoMa': 'https://www.airbnb.com/locations/san-francisco/soma', 'Mission Bay': 'https://www.airbnb.com/locations/san-francisco/mission-bay', 'Chinatown': 'https://www.airbnb.com/locations/san-francisco/chinatown', 'Alamo Square': 'https://www.airbnb.com/locations/san-francisco/alamo-square', 'Noe Valley': 'https://www.airbnb.com/locations/san-francisco/noe-valley', 'Western Addition/NOPA': 'https://www.airbnb.com/locations/san-francisco/western-addition-nopa', 'Outer Sunset': 'https://www.airbnb.com/locations/san-francisco/sunset-district', 'Bayview': 'https://www.airbnb.com/locations/san-francisco/bayview', 'North Beach': 'https://www.airbnb.com/locations/san-francisco/north-beach', 'Civic Center': 'https://www.airbnb.com/locations/san-francisco/civic-center', 'The Castro': 'https://www.airbnb.com/locations/san-francisco/the-castro', 'Cole Valley': 'https://www.airbnb.com/locations/san-francisco/cole-valley', 'Inner Sunset': 'https://www.airbnb.com/locations/san-francisco/inner-sunset', 'Russian Hill': 'https://www.airbnb.com/locations/san-francisco/russian-hill', 'Dogpatch': 'https://www.airbnb.com/locations/san-francisco/dogpatch', 'Twin Peaks': 'https://www.airbnb.com/locations/san-francisco/twin-peaks', 'South Beach': 'https://www.airbnb.com/locations/san-francisco/south-beach'}\n"
     ]
    }
   ],
   "source": [
    "neighborhooddic = {}\n",
    "for item in neighborhoodlist:\n",
    "    newlist = item.split(\">\")\n",
    "    name = newlist[1]\n",
    "    URL = \"https://www.airbnb.com\" + newlist[0][:-1]\n",
    "    neighborhooddic[name] = URL\n",
    "print neighborhooddic"
   ]
  },
  {
   "cell_type": "code",
   "execution_count": 294,
   "metadata": {
    "collapsed": true
   },
   "outputs": [],
   "source": [
    "def clean_strings(string):\n",
    "    cleanstring = string.replace(\"\\xe2\\x80\\x99\",\"'\")\n",
    "    cleanerstring = cleanstring.replace(\"\\xe2\\x80\\x94\",\" - \")\n",
    "    evencleanerstring = cleanerstring.replace(\"&amp;\",\"&\")\n",
    "    yetcleanerstring = evencleanerstring.replace(\"\\xc2\\xa0\",\" \")\n",
    "    cleaneststring = yetcleanerstring.replace(\"\\xe2\\x80\\x93\",\" - \")\n",
    "    return cleaneststring"
   ]
  },
  {
   "cell_type": "markdown",
   "metadata": {},
   "source": [
    "Ok now we have a list of neighborhoods; how do we extract the information we want and write it to a CSV?"
   ]
  },
  {
   "cell_type": "code",
   "execution_count": 311,
   "metadata": {
    "collapsed": false
   },
   "outputs": [
    {
     "name": "stdout",
     "output_type": "stream",
     "text": [
      "Mission District\n",
      "I'm creating a CSV file...\n",
      "CSV file created!\n"
     ]
    },
    {
     "data": {
      "text/plain": [
       "{'Block_Quotes': [\"For those who don't know the Mission, it's one of the most interesting and diverse neighborhoods in SF...You'll find Mexican grocery stores, hipster restaurants and home decor stores, dive bars, activist bookstores, and amazing street art. It's a slice of SF unlike anything you'll find in the places where hotels are located. I recommend getting a BART card or renting a bike to get around.\",\n",
       "  '24th Street is filled with great taquerias, cafes, fun shopping, and some of the craziest and inventive ice-cream and doughnuts in the world.',\n",
       "  'Staying in the Mission means you get all the fun of San Francisco, with all the fun people. This is seriously the best part of SF, and the Mission is known for its eateries, coffee shops, book stores, art galleries and bars. The Mission is awesome.',\n",
       "  \"Born and raised in LA, Aubrie Pick moved to San Francisco a decade ago to attend the Art Institute. She's called the Mission home since 2005,  and loves nothing more than drinking morning coffee from Four Barrel while watching her dog romp in Dolores Park.  Some of her other clients include California Home + Design Magazine, 7x7 Magazine, SPIN, Mix Magazine, and Eater.com\",\n",
       "  \"Marc Olivier Le Blanc specializes in commercial and editorial portrait photography. Although he's currently based in the vibrant Mission neighborhood of San Francisco, he returned to his native France to shoot Paris for this project through a traveler's eye. He always strives to turn both the ordinary and the unusual into something extraordinary\"],\n",
       " 'Community_Tags': ['murals',\n",
       "  'hipsters',\n",
       "  'bicyclists',\n",
       "  'trendy',\n",
       "  'burritos',\n",
       "  'artists',\n",
       "  'nightlife',\n",
       "  'music',\n",
       "  'dive bars',\n",
       "  'coffee',\n",
       "  'latino community',\n",
       "  'tamale lady',\n",
       "  'gay',\n",
       "  'activism',\n",
       "  'nightlife',\n",
       "  'theatre',\n",
       "  'lofts',\n",
       "  'restaurants',\n",
       "  'warehouses',\n",
       "  'artsy',\n",
       "  'nightlife',\n",
       "  'sausages',\n",
       "  'hipster',\n",
       "  'punk'],\n",
       " 'Intro': \"The Mission District's blend of class and crass evades definition as this colorful neighborhood changes from block to block.\",\n",
       " 'Lede': \"The Mission District's multifarious corridors comprise an invitingly seedy melting pot of cultures, cuisines, and cool kids. Dusty produce bins line the sidewalks in front of colorful Latino markets, and the aroma of fresh roasted coffee beans emanates from first-class cafes along this diverse neighborhoods main streets. Whether youre looking for upscale restaurants, lowbrow dive bars, the best taquerias, or simply delicious street food, the Mission delivers.\",\n",
       " 'Name': 'Mission District',\n",
       " 'Official_Tags': ['Loved by San Franciscans',\n",
       "  'Dining',\n",
       "  'Nightlife',\n",
       "  'Artsy',\n",
       "  'Great Transit',\n",
       "  'Shopping',\n",
       "  'Touristy'],\n",
       " 'Photo_Captions': ['The Mission District\\'s streets are more than names and numbers. They often serve as geographic indicators when answering the question, \"Will I find amusement or will I feel apprehensive?\"',\n",
       "  \"The neighborhood's inhabitants lead markedly different lives.\",\n",
       "  \"The Mission's incongruity is evidenced street by street, crosswalk by crosswalk. Its residents vary as much as its lifestyles - leaders of the area's Latin American community share the neighborhood with inflowing students, artists, and entrepreneurs.\",\n",
       "  'Before there was a strong bicycle culture, there was a strong bus culture. The Mission has both.',\n",
       "  'A few blocks away from the bus stops, friends socialize on the sprawling lawns of beloved Dolores Park.',\n",
       "  'Stark contrasts present themselves on every corner in the Mission.',\n",
       "  \"The neighborhood's main thoroughfares tell strikingly different stories.\",\n",
       "  \"Mission Street's corner bodegas and urban convenience kiosks transform into private label markets and pricey boutiques along Valencia Street.\",\n",
       "  \"Regardless of the neighborhood's differing cultures, ages, professions, shops, restaurants, and lifestyles, a unifying characteristic is evidenced throughout the Mission.\",\n",
       "  'Signature street art adorns its walls, facades, and sidewalks.',\n",
       "  'The Mission owes its soul, and its name, to the Latino community that calls the neighborhood home.',\n",
       "  'Its traditions influence every part of the neighborhood.',\n",
       "  \"From the Mission's corner bodegas and cultural holiday celebrations to its open-late taquerias and Spanish language signage, the Latino culture has left an indelible imprint on the spirit of the neighborhood.\",\n",
       "  'The Mission intersects with The Castro in Dolores Park, and its beloved green hills serve as gathering places for multiple neighborhoods.',\n",
       "  \"It doesn't get any better than dining in the Mission. Stylish restaurants and cafes with monosyllabic names line Valencia Street.\",\n",
       "  \"The Mission's culinary options are endless. Mexican, Senegalese, Indian, Thai, Vegan, Freegan? You'll find it here.\",\n",
       "  'Tartine Bakery adds a dash of unparalleled esteem to Guerrero Street.',\n",
       "  \"Adding sweetness to the culinary scene on 24th Street, Humphry Slocombe Creamery caters to crowds that can't fit inside the building.\",\n",
       "  \"When it comes to shopping, there's a marked difference between the numbers marked on the price tags of the neighborhood's wares.\",\n",
       "  \"On Mission Street, you'll find sidewalk sales in direct sunlight.\",\n",
       "  \"On Valencia Street, you'll find tailored boutiques with soft lighting.\",\n",
       "  'Although stylish shops saturate Valencia, not every boutique is what it seems.',\n",
       "  \"826 Valencia's facade may lead you to believe it's another hip shop on one of the Mission's hippest streets. Indeed, the store sells accessories for swashbucklers, but author Dave Eggers founded 826 with an alternative aim. As a non-profit that dedicates itself to helping children and young adults develop their writing skills, 826 serves the residents of the Mission in inspirationally creative ways.\",\n",
       "  'In the Mission, every surface seems to serve as a canvas for public displays of expression. Some are creative and some are challenging, but all remain distinctly Mission.',\n",
       "  'Clarion Alley serves as public canvas and public bench.',\n",
       "  'Taking art to the streets. Literally.',\n",
       "  'The Mission elevates street art to new levels.',\n",
       "  'In some cases, the neighborhood brings it down to the ground level.',\n",
       "  'In the Mission, coffee is a cultural institution.',\n",
       "  \"Introducing craft coffee to the masses, the Mission's small-batch roasters and professional baristas pour the perfect cup, every time.\",\n",
       "  'And their clients return the next morning, every time.',\n",
       "  \"The Mission's nightlife is as varied as its inhabitants.\",\n",
       "  'Avant-garde performance art happens in alleyways as live music emanates from upstairs music clubs and the guy next to you orders another round of the seasonal microbrew.',\n",
       "  \"The nights are long in the Mission, and there's still more to do.\",\n",
       "  \"Luckily, slice shops, street vendors, and the neighborhood's famous taquerias stay open late. If you're really lucky, you'll have a few dollars left to taste a Mesoamerican specialty sold to you by The Tamale Lady.\"],\n",
       " 'Photo_Headers': [\"The Mission District: It's Complicated\",\n",
       "  'Latino Influences at The Heart of the Mission',\n",
       "  'Green Pastures In Dolores Park',\n",
       "  'On the Streets: Dining',\n",
       "  'On the Streets: Boutique Sensibilities and Sidewalk Wares',\n",
       "  'On the Streets: Art',\n",
       "  'Cafe Society']}"
      ]
     },
     "execution_count": 311,
     "metadata": {},
     "output_type": "execute_result"
    }
   ],
   "source": [
    "def get_descriptions(url):\n",
    "    src = requests.get(url).text\n",
    "    \n",
    "    descriptions = {}\n",
    "    soup = BeautifulSoup(src)\n",
    "        \n",
    "    descriptions[\"Name\"] = soup.select('h1.circularbold')[0].text.encode(\"ascii\", \"ignore\")\n",
    "    print descriptions[\"Name\"]\n",
    "    \n",
    "    intro = str(soup.select(\"div.description\"))[48:-20]\n",
    "    newintro = clean_strings(intro)\n",
    "    descriptions[\"Intro\"] = newintro\n",
    "    \n",
    "    lede = soup.select(\"p.lede\")[0].text.encode(\"ascii\", \"ignore\")\n",
    "    #strlede = str(lede)[16:-4]\n",
    "    #cleanerlede = clean_strings(strlede)\n",
    "    descriptions[\"Lede\"] = lede\n",
    "    \n",
    "    official_tags = soup.select(\"span.name\")\n",
    "    official_tag_list = []\n",
    "    for tag in official_tags:\n",
    "        justtag = (str(tag)[19:-7])\n",
    "        cleantag = clean_strings(justtag)\n",
    "        official_tag_list.append(cleantag)\n",
    "    descriptions[\"Official_Tags\"] = official_tag_list\n",
    "    \n",
    "    community_tags = soup.select(\"div.neighborhood-tag\")\n",
    "    community_tag_list = []\n",
    "    for tag in community_tags:\n",
    "        justtag = (str(tag)[30:]).split(\"\\n\")[0]\n",
    "        community_tag_list.append(justtag)\n",
    "    descriptions[\"Community_Tags\"] = community_tag_list\n",
    "    \n",
    "    photo_captions = soup.select(\"div.primary\")[1:]\n",
    "    photo_caption_list = []\n",
    "    for caption in photo_captions:\n",
    "        justcaption = str(caption)[25:-11]\n",
    "        cleancaption = clean_strings(justcaption)\n",
    "        photo_caption_list.append(cleancaption)\n",
    "    descriptions[\"Photo_Captions\"] = photo_caption_list\n",
    "    \n",
    "    photo_headers = soup.select(\"h2\")[1:-8]\n",
    "    photo_header_list = []\n",
    "    for header in photo_headers:\n",
    "        justheader = str(header)[4:-5]\n",
    "        photo_header_list.append(justheader)\n",
    "    descriptions[\"Photo_Headers\"] = photo_header_list\n",
    "    \n",
    "    block_quotes = soup.select(\"blockquote\")\n",
    "    block_quote_list = []\n",
    "    for quote in block_quotes:\n",
    "        justquote = str(quote)[12:-14]\n",
    "        cleanquote = clean_strings(justquote)\n",
    "        block_quote_list.append(cleanquote)\n",
    "    descriptions[\"Block_Quotes\"] = block_quote_list\n",
    "\n",
    "    import csv\n",
    "    filename = url[33:] + '_' + 'descriptions.csv'\n",
    "    cleanfilename = filename.replace(\"/\",\"_\")\n",
    "    writer = csv.writer(open(cleanfilename, 'wb'))\n",
    "    print \"I'm creating a CSV file...\"\n",
    "    for key, value in descriptions.items():\n",
    "        writer.writerow([key, value])\n",
    "\n",
    "    print \"CSV file created!\"\n",
    "\n",
    "    return descriptions\n",
    "\n",
    "get_descriptions('https://www.airbnb.com/locations/san-francisco/mission-district')\n",
    "\n",
    "#missiondescriptions = get_descriptions('https://www.airbnb.com/locations/san-francisco/mission-district')\n",
    "#print missiondescriptions"
   ]
  },
  {
   "cell_type": "code",
   "execution_count": 291,
   "metadata": {
    "collapsed": false
   },
   "outputs": [
    {
     "name": "stdout",
     "output_type": "stream",
     "text": [
      "Fisherman's Wharf\n",
      "I'm creating a CSV file...\n",
      "CSV file created!\n",
      "I made a CSV for Fisherman's Wharf!\n",
      "Hayes Valley\n",
      "I'm creating a CSV file...\n",
      "CSV file created!\n",
      "I made a CSV for Hayes Valley!\n",
      "Portola\n",
      "I'm creating a CSV file...\n",
      "CSV file created!\n",
      "I made a CSV for Portola!\n",
      "Financial District\n",
      "I'm creating a CSV file...\n",
      "CSV file created!\n",
      "I made a CSV for Financial District!\n",
      "Lower Haight\n",
      "I'm creating a CSV file...\n",
      "CSV file created!\n",
      "I made a CSV for Lower Haight!\n",
      "\n",
      "I made a CSV for Japantown!\n",
      "Glen Park\n",
      "I'm creating a CSV file...\n",
      "CSV file created!\n",
      "I made a CSV for Glen Park!\n",
      "Tenderloin\n",
      "I'm creating a CSV file...\n",
      "CSV file created!\n",
      "I made a CSV for Tenderloin!\n",
      "Cow Hollow\n",
      "I'm creating a CSV file...\n",
      "CSV file created!\n",
      "I made a CSV for Cow Hollow!\n",
      "Parkside\n",
      "I'm creating a CSV file...\n",
      "CSV file created!\n",
      "I made a CSV for Parkside!\n",
      "Presidio Heights\n",
      "I'm creating a CSV file...\n",
      "CSV file created!\n",
      "I made a CSV for Presidio Heights!\n",
      "Bernal Heights\n",
      "I'm creating a CSV file...\n",
      "CSV file created!\n",
      "I made a CSV for Bernal Heights!\n",
      "Mission Terrace\n",
      "I'm creating a CSV file...\n",
      "CSV file created!\n",
      "I made a CSV for Mission Terrace!\n",
      "Telegraph Hill\n",
      "I'm creating a CSV file...\n",
      "CSV file created!\n",
      "I made a CSV for Telegraph Hill!\n",
      "Potrero Hill\n",
      "I'm creating a CSV file...\n",
      "CSV file created!\n",
      "I made a CSV for Potrero Hill!\n",
      "Pacific Heights\n",
      "I'm creating a CSV file...\n",
      "CSV file created!\n",
      "I made a CSV for Pacific Heights!\n",
      "Duboce Triangle\n",
      "I'm creating a CSV file...\n",
      "CSV file created!\n",
      "I made a CSV for Duboce Triangle!\n",
      "Excelsior\n",
      "I'm creating a CSV file...\n",
      "CSV file created!\n",
      "I made a CSV for Excelsior!\n",
      "Downtown\n",
      "I'm creating a CSV file...\n",
      "CSV file created!\n",
      "I made a CSV for Downtown!\n",
      "Mission District\n",
      "I'm creating a CSV file...\n",
      "CSV file created!\n",
      "I made a CSV for Mission District!\n",
      "Visitacion Valley\n",
      "I'm creating a CSV file...\n",
      "CSV file created!\n",
      "I made a CSV for Visitacion Valley!\n",
      "Marina\n",
      "I'm creating a CSV file...\n",
      "CSV file created!\n",
      "I made a CSV for Marina!\n",
      "Haight-Ashbury\n",
      "I'm creating a CSV file...\n",
      "CSV file created!\n",
      "I made a CSV for Haight-Ashbury!\n",
      "Nob Hill\n",
      "I'm creating a CSV file...\n",
      "CSV file created!\n",
      "I made a CSV for Nob Hill!\n",
      "Richmond District\n",
      "I'm creating a CSV file...\n",
      "CSV file created!\n",
      "I made a CSV for Richmond District!\n",
      "SoMa\n",
      "I'm creating a CSV file...\n",
      "CSV file created!\n",
      "I made a CSV for SoMa!\n",
      "Mission Bay\n",
      "I'm creating a CSV file...\n",
      "CSV file created!\n",
      "I made a CSV for Mission Bay!\n",
      "Chinatown\n",
      "I'm creating a CSV file...\n",
      "CSV file created!\n",
      "I made a CSV for Chinatown!\n",
      "Alamo Square\n",
      "I'm creating a CSV file...\n",
      "CSV file created!\n",
      "I made a CSV for Alamo Square!\n",
      "Noe Valley\n",
      "I'm creating a CSV file...\n",
      "CSV file created!\n",
      "I made a CSV for Noe Valley!\n",
      "Western Addition/NOPA\n",
      "I'm creating a CSV file...\n",
      "CSV file created!\n",
      "I made a CSV for Western Addition/NOPA!\n",
      "Outer Sunset\n",
      "I'm creating a CSV file...\n",
      "CSV file created!\n",
      "I made a CSV for Outer Sunset!\n",
      "Bayview\n",
      "I'm creating a CSV file...\n",
      "CSV file created!\n",
      "I made a CSV for Bayview!\n",
      "North Beach\n",
      "I'm creating a CSV file...\n",
      "CSV file created!\n",
      "I made a CSV for North Beach!\n",
      "Civic Center\n",
      "I'm creating a CSV file...\n",
      "CSV file created!\n",
      "I made a CSV for Civic Center!\n",
      "The Castro\n",
      "I'm creating a CSV file...\n",
      "CSV file created!\n",
      "I made a CSV for The Castro!\n",
      "Cole Valley\n",
      "I'm creating a CSV file...\n",
      "CSV file created!\n",
      "I made a CSV for Cole Valley!\n",
      "Inner Sunset\n",
      "I'm creating a CSV file...\n",
      "CSV file created!\n",
      "I made a CSV for Inner Sunset!\n",
      "Russian Hill\n",
      "I'm creating a CSV file...\n",
      "CSV file created!\n",
      "I made a CSV for Russian Hill!\n",
      "Dogpatch\n",
      "I'm creating a CSV file...\n",
      "CSV file created!\n",
      "I made a CSV for Dogpatch!\n",
      "Twin Peaks\n",
      "I'm creating a CSV file...\n",
      "CSV file created!\n",
      "I made a CSV for Twin Peaks!\n",
      "South Beach\n",
      "I'm creating a CSV file...\n",
      "CSV file created!\n",
      "I made a CSV for South Beach!\n"
     ]
    }
   ],
   "source": [
    "for item in neighborhooddic:\n",
    "    try:\n",
    "        get_descriptions(neighborhooddic[item])\n",
    "    except IndexError: # catch the error\n",
    "        pass\n",
    "    print \"I made a CSV for \" + item + \"!\""
   ]
  },
  {
   "cell_type": "code",
   "execution_count": null,
   "metadata": {
    "collapsed": true
   },
   "outputs": [],
   "source": []
  }
 ],
 "metadata": {
  "kernelspec": {
   "display_name": "Python 2",
   "language": "python",
   "name": "python2"
  },
  "language_info": {
   "codemirror_mode": {
    "name": "ipython",
    "version": 2
   },
   "file_extension": ".py",
   "mimetype": "text/x-python",
   "name": "python",
   "nbconvert_exporter": "python",
   "pygments_lexer": "ipython2",
   "version": "2.7.10"
  }
 },
 "nbformat": 4,
 "nbformat_minor": 0
}
